{
 "cells": [
  {
   "cell_type": "code",
   "execution_count": 1,
   "metadata": {},
   "outputs": [],
   "source": [
    "import pandas as pd\n",
    "import numpy as np\n",
    "from scipy import stats\n",
    "from sklearn.linear_model import LogisticRegression\n",
    "import matplotlib.pyplot as plt\n",
    "import seaborn as sns\n",
    "sns.set_style('whitegrid')\n"
   ]
  },
  {
   "cell_type": "code",
   "execution_count": 7,
   "metadata": {},
   "outputs": [
    {
     "name": "stdout",
     "output_type": "stream",
     "text": [
      "Index(['customer_id', 'customer_unique_id', 'customer_zip_code_prefix',\n",
      "       'customer_city', 'customer_state'],\n",
      "      dtype='object')\n",
      "Index(['order_id', 'order_item_id', 'product_id', 'seller_id',\n",
      "       'shipping_limit_date', 'price', 'freight_value'],\n",
      "      dtype='object')\n",
      "Index(['customer_id', 'customer_unique_id', 'customer_zip_code_prefix',\n",
      "       'customer_city', 'customer_state'],\n",
      "      dtype='object')\n",
      "Index(['seller_id', 'seller_zip_code_prefix', 'seller_city', 'seller_state'], dtype='object')\n",
      "Index(['product_id', 'product_category_name', 'product_name_lenght',\n",
      "       'product_description_lenght', 'product_photos_qty', 'product_weight_g',\n",
      "       'product_length_cm', 'product_height_cm', 'product_width_cm'],\n",
      "      dtype='object')\n",
      "Index(['order_id', 'customer_id', 'order_status', 'order_purchase_timestamp',\n",
      "       'order_approved_at', 'order_delivered_carrier_date',\n",
      "       'order_delivered_customer_date', 'order_estimated_delivery_date'],\n",
      "      dtype='object')\n"
     ]
    }
   ],
   "source": [
    "# Dataset:\n",
    "# https://www.kaggle.com/datasets/olistbr/brazilian-ecommerce\n",
    "DATASET_DIR = '../../olist_ecommerce_dataset/'\n",
    "o_customers = pd.read_csv(f'{DATASET_DIR}olist_customers_dataset.csv')\n",
    "print(o_customers.columns)\n",
    "# o_geolocation = pd.read_csv(f'{DATASET_DIR}olist_geolocation_dataset.csv')\n",
    "# print(o_geolocation.columns)\n",
    "o_order_items = pd.read_csv(f'{DATASET_DIR}olist_order_items_dataset.csv')\n",
    "print(o_order_items.columns)\n",
    "# o_order_payments = pd.read_csv(f'{DATASET_DIR}olist_order_payments_dataset.csv')\n",
    "# print(o_order_payments.columns)\n",
    "# o_order_reviews = pd.read_csv(f'{DATASET_DIR}olist_order_reviews_dataset.csv')\n",
    "# print(o_order_reviews.columns)\n",
    "o_customers = pd.read_csv(f'{DATASET_DIR}olist_customers_dataset.csv')\n",
    "print(o_customers.columns)\n",
    "# o_category_name_translations = pd.read_csv(f'{DATASET_DIR}product_category_name_translation.csv')\n",
    "# print(o_category_name_translations.columns)\n",
    "o_sellers = pd.read_csv(f'{DATASET_DIR}olist_sellers_dataset.csv')\n",
    "print(o_sellers.columns)\n",
    "o_products = pd.read_csv(f'{DATASET_DIR}olist_products_dataset.csv')\n",
    "print(o_products.columns)\n",
    "o_orders = pd.read_csv(f'{DATASET_DIR}olist_orders_dataset.csv')\n",
    "print(o_orders.columns)"
   ]
  },
  {
   "cell_type": "code",
   "execution_count": 8,
   "metadata": {},
   "outputs": [],
   "source": [
    "# Noisy total sum of purchases:\n",
    "# - maybe in total\n",
    "# - maybe for a single seller\n",
    "# - privacy unit: user-purchase\n",
    "# - privacy unit: seller? (not sure if viable)"
   ]
  },
  {
   "cell_type": "code",
   "execution_count": 9,
   "metadata": {},
   "outputs": [],
   "source": [
    "# Investigate how much anonimity provided zip codes give:\n",
    "# - for: customers, sellers\n",
    "# - k-anon\n",
    "# - l-diversity\n",
    "# - t-closeness\n",
    "# Achieve better results:\n",
    "# - if the above are insufficient\n",
    "# - by generalization\n",
    "# - by suppression\n",
    "\n",
    "# If not enough diversity, some customers are identifiable\n",
    "# just by knowing what they bought and in what time window\n",
    "# (time window presicion required depends on the diversity\n",
    "# zip codes)"
   ]
  },
  {
   "cell_type": "code",
   "execution_count": null,
   "metadata": {},
   "outputs": [],
   "source": [
    "# Seller income prediction:\n",
    "# - use case: share ML model only\n",
    "# - DPSGD frameworks to use?\n",
    "# - predict:\n",
    "#   - seller income\n",
    "# - from:\n",
    "#   - ???????"
   ]
  },
  {
   "cell_type": "code",
   "execution_count": null,
   "metadata": {},
   "outputs": [],
   "source": [
    "# Order item price:\n",
    "# - PPM:\n",
    "#   - generalise/round prices (not exactly the same, can compare)\n",
    "# - compare:\n",
    "#   - number of unique values\n",
    "# - can do the same with zip codes (written above)\n",
    "# - same can be done for delivery/ordering/predicted delivery date"
   ]
  },
  {
   "cell_type": "code",
   "execution_count": null,
   "metadata": {},
   "outputs": [],
   "source": [
    "# Post RAndomisation Method (PRAM):\n",
    "# - section 5.2.6 in article\n",
    "# - apply to:\n",
    "#   - order-customer combination\n",
    "#   - or customer-zipcode combination (should be equivalent with order-customer)\n",
    "#   - use zip codes to create the transition matrix\n",
    "# - to minimize distortion:\n",
    "#   - transition matrix should closely match tistribution of zip codes\n",
    "#   - can compare naive and optimized versions (e. g. python and rust)\n",
    "# - maybe just use swapping for this, will give similar results and is much simpler\n",
    "\n",
    "# Swapping (5.2.1):\n",
    "# - apply to prices?\n",
    "# - use rank-swapping\n",
    "\n",
    "# Microaggregation? (5.2.4) (averaging over a few records, similar to k-anonimity but\n",
    "# for numerical values)"
   ]
  }
 ],
 "metadata": {
  "kernelspec": {
   "display_name": "Python 3",
   "language": "python",
   "name": "python3"
  },
  "language_info": {
   "codemirror_mode": {
    "name": "ipython",
    "version": 3
   },
   "file_extension": ".py",
   "mimetype": "text/x-python",
   "name": "python",
   "nbconvert_exporter": "python",
   "pygments_lexer": "ipython3",
   "version": "3.10.12"
  }
 },
 "nbformat": 4,
 "nbformat_minor": 2
}
